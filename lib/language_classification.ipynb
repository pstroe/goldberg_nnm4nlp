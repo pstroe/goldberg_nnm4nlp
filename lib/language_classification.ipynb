{
 "cells": [
  {
   "cell_type": "markdown",
   "metadata": {},
   "source": [
    "# Multi-Class Classification - Language Classification\n",
    "\n",
    "This notebook implements the method presented in Goldberg's [2017] book \"Neural Network Methods for Natural Language Processing\". It shows the steps you need to go through in order to successfully train a classifier, and it should also, so I hope, illustrate the notational differences between Goldberg and standard machine learning literature.\n",
    "\n",
    "$NOTE$: There is no cross-validation etc. to find optimal parameters. This is simply to show how multi-class classification works. This will be part of a tutorial session and all other concepts will be explained there.\n",
    "\n",
    "Author: Phillip Ströbel"
   ]
  },
  {
   "cell_type": "markdown",
   "metadata": {},
   "source": [
    "## Getting and cleaning the data\n",
    "\n",
    "The data consists of downloaded Wikipedia articles (see `urls.txt`) in German, English, French, Spanish, Italian and Finnish (instead of \"O\" in Goldberg). The data is in HTML, so we need to some preprocessing to get the text out of it. We also restrict ourselfes to the characters from a to z in the alphabet (as described in Goldberg). In this fashion, we get rid of all the Umlauts (ä, ö, ü) and all other characters with diacritics (as, e.g., the é or ç in French). Note however, that if these characters ocurring in bigrams would probably be good features. In some way, we still keep the information \"special character\" by not fully deleting the character, but by replacing it by the dollar sign \"\\$\". Furthermore, we replace all punctuation marks and digits by dollar signs as well. As such, all special characters, digits, and punctuation marks are mapped to $. The space will be replaced by an underscore \"\\_\". We then represent each langauge by 28 characters, as is suggested by Goldberg."
   ]
  },
  {
   "cell_type": "markdown",
   "metadata": {},
   "source": [
    "### Cleaning HTML\n",
    "We first strip the HTML to get only the text of the Wikipedia page."
   ]
  },
  {
   "cell_type": "markdown",
   "metadata": {},
   "source": [
    "#### Get the html files"
   ]
  },
  {
   "cell_type": "code",
   "execution_count": 1,
   "metadata": {},
   "outputs": [],
   "source": [
    "import re\n",
    "import numpy as np\n",
    "from bs4 import BeautifulSoup\n",
    "from urllib.request import urlopen\n",
    "from collections import defaultdict\n",
    "\n",
    "seed = np.random.seed(seed=200)  # set a seed for random, so results are reproducible\n",
    "\n",
    "article_dict = defaultdict(lambda: defaultdict(str))\n",
    "\n",
    "regex = r'[\\n ]{2,}'\n",
    "pattern = re.compile(regex)\n",
    "\n",
    "urls = open('urls.txt', 'r').readlines()\n",
    "\n",
    "for url_index, url in enumerate(urls):\n",
    "    language = url[8:10]\n",
    "    doc_id = 'doc_%d' % url_index\n",
    "    html = urlopen(url.strip()).read()    \n",
    "    soup = BeautifulSoup(html, 'html.parser')\n",
    "    raw = soup.body.get_text()  # only get text from the text body (this excludes headers and should exclude navigation bars)\n",
    "    raw = re.sub(pattern, ' ', raw)  # replace multiple breaks and spaces by only one space\n",
    "    raw = re.sub(r'\\n', ' ', raw)  # replace every line break with a space\n",
    "    article_dict[language][doc_id] = raw.lower()  # assign each text to its language and lower all uppercase characters"
   ]
  },
  {
   "cell_type": "markdown",
   "metadata": {},
   "source": [
    "### Preprocessing --> prepare the text\n",
    "replace special characters and digits"
   ]
  },
  {
   "cell_type": "code",
   "execution_count": 2,
   "metadata": {},
   "outputs": [],
   "source": [
    "preprocessed_dict = defaultdict(lambda: defaultdict(str))\n",
    "\n",
    "abc = r'[a-z]'\n",
    "abc_pattern = re.compile(abc)\n",
    "\n",
    "for lang, doc in article_dict.items():\n",
    "    for doc, text in doc.items():\n",
    "        for char in text:\n",
    "            if re.match(abc_pattern, char):\n",
    "                preprocessed_dict[lang][doc] += char\n",
    "            elif re.match(' ', char):\n",
    "                preprocessed_dict[lang][doc] += '_'\n",
    "            else:\n",
    "                preprocessed_dict[lang][doc] += '$'"
   ]
  },
  {
   "cell_type": "markdown",
   "metadata": {},
   "source": [
    "### Count bigrams --> Feature extraction"
   ]
  },
  {
   "cell_type": "markdown",
   "metadata": {},
   "source": [
    "The distribution of bigrams will be our only feature. We could extend this by taking into account other n-grams."
   ]
  },
  {
   "cell_type": "code",
   "execution_count": 3,
   "metadata": {},
   "outputs": [],
   "source": [
    "charset = 'abcdefghijklmnopqrstuvwxyz$_'  # define the character set we want to use"
   ]
  },
  {
   "cell_type": "code",
   "execution_count": 4,
   "metadata": {},
   "outputs": [],
   "source": [
    "from itertools import combinations_with_replacement, permutations\n",
    "\n",
    "def bigrams(text):\n",
    "    \"\"\"\n",
    "    Function to extract bigrams from text and calculate their distribution\n",
    "    :param text: text string\n",
    "    :return: dictionary containing bigrams as keys, and the normalised count as values\n",
    "    \"\"\"\n",
    "    combs = combinations_with_replacement(charset, 2)\n",
    "    perms = permutations(charset, 2)\n",
    "    bigram_dict = dict()\n",
    "    \n",
    "    for comb in set(list(combs) + list(perms)):\n",
    "        bigram_dict[''.join(comb)] = 0\n",
    "        \n",
    "    doc_length = len(text)\n",
    "    \n",
    "    for i in range(0, len(text)-1):\n",
    "        bigram = text[i] + text[i+1]\n",
    "        bigram_dict[bigram] += 1\n",
    "                \n",
    "    for bigram, count in bigram_dict.items():\n",
    "        bigram_dict[bigram] = count/doc_length\n",
    "\n",
    "    return bigram_dict              "
   ]
  },
  {
   "cell_type": "markdown",
   "metadata": {},
   "source": [
    "### Put data into pandas dataframe\n",
    "The pandas dataframe allows us to conveniently represent all the data we need in one table. So let's do this. But first we need to extract the features."
   ]
  },
  {
   "cell_type": "code",
   "execution_count": 5,
   "metadata": {},
   "outputs": [],
   "source": [
    "bigram_dict_full = defaultdict(lambda: defaultdict(dict))\n",
    "\n",
    "for lang, doc in preprocessed_dict.items():\n",
    "    for doc, text in sorted(doc.items()):\n",
    "        bigram_dict = bigrams(text)\n",
    "        bigram_dict_full[lang][doc] = bigram_dict"
   ]
  },
  {
   "cell_type": "code",
   "execution_count": 6,
   "metadata": {},
   "outputs": [
    {
     "data": {
      "text/html": [
       "<div>\n",
       "<style scoped>\n",
       "    .dataframe tbody tr th:only-of-type {\n",
       "        vertical-align: middle;\n",
       "    }\n",
       "\n",
       "    .dataframe tbody tr th {\n",
       "        vertical-align: top;\n",
       "    }\n",
       "\n",
       "    .dataframe thead th {\n",
       "        text-align: right;\n",
       "    }\n",
       "</style>\n",
       "<table border=\"1\" class=\"dataframe\">\n",
       "  <thead>\n",
       "    <tr style=\"text-align: right;\">\n",
       "      <th></th>\n",
       "      <th>$$</th>\n",
       "      <th>$_</th>\n",
       "      <th>$a</th>\n",
       "      <th>$b</th>\n",
       "      <th>$c</th>\n",
       "      <th>$d</th>\n",
       "      <th>$e</th>\n",
       "      <th>$f</th>\n",
       "      <th>$g</th>\n",
       "      <th>$h</th>\n",
       "      <th>...</th>\n",
       "      <th>zq</th>\n",
       "      <th>zr</th>\n",
       "      <th>zs</th>\n",
       "      <th>zt</th>\n",
       "      <th>zu</th>\n",
       "      <th>zv</th>\n",
       "      <th>zw</th>\n",
       "      <th>zx</th>\n",
       "      <th>zy</th>\n",
       "      <th>zz</th>\n",
       "    </tr>\n",
       "  </thead>\n",
       "  <tbody>\n",
       "    <tr>\n",
       "      <th>0</th>\n",
       "      <td>0.070389</td>\n",
       "      <td>0.034548</td>\n",
       "      <td>0.002063</td>\n",
       "      <td>0.000317</td>\n",
       "      <td>0.000249</td>\n",
       "      <td>0.000295</td>\n",
       "      <td>0.001020</td>\n",
       "      <td>0.000136</td>\n",
       "      <td>0.000113</td>\n",
       "      <td>0.001065</td>\n",
       "      <td>...</td>\n",
       "      <td>0.0</td>\n",
       "      <td>0.0</td>\n",
       "      <td>0.000000</td>\n",
       "      <td>0.0</td>\n",
       "      <td>0.000023</td>\n",
       "      <td>0.0</td>\n",
       "      <td>0.000000</td>\n",
       "      <td>0.0</td>\n",
       "      <td>0.0</td>\n",
       "      <td>0.0</td>\n",
       "    </tr>\n",
       "    <tr>\n",
       "      <th>1</th>\n",
       "      <td>0.047840</td>\n",
       "      <td>0.025302</td>\n",
       "      <td>0.000809</td>\n",
       "      <td>0.000243</td>\n",
       "      <td>0.000135</td>\n",
       "      <td>0.000067</td>\n",
       "      <td>0.000890</td>\n",
       "      <td>0.000067</td>\n",
       "      <td>0.000121</td>\n",
       "      <td>0.000850</td>\n",
       "      <td>...</td>\n",
       "      <td>0.0</td>\n",
       "      <td>0.0</td>\n",
       "      <td>0.000000</td>\n",
       "      <td>0.0</td>\n",
       "      <td>0.000013</td>\n",
       "      <td>0.0</td>\n",
       "      <td>0.000013</td>\n",
       "      <td>0.0</td>\n",
       "      <td>0.0</td>\n",
       "      <td>0.0</td>\n",
       "    </tr>\n",
       "    <tr>\n",
       "      <th>2</th>\n",
       "      <td>0.064450</td>\n",
       "      <td>0.032426</td>\n",
       "      <td>0.000541</td>\n",
       "      <td>0.001359</td>\n",
       "      <td>0.000357</td>\n",
       "      <td>0.000392</td>\n",
       "      <td>0.000841</td>\n",
       "      <td>0.000092</td>\n",
       "      <td>0.000081</td>\n",
       "      <td>0.001106</td>\n",
       "      <td>...</td>\n",
       "      <td>0.0</td>\n",
       "      <td>0.0</td>\n",
       "      <td>0.000000</td>\n",
       "      <td>0.0</td>\n",
       "      <td>0.000127</td>\n",
       "      <td>0.0</td>\n",
       "      <td>0.000012</td>\n",
       "      <td>0.0</td>\n",
       "      <td>0.0</td>\n",
       "      <td>0.0</td>\n",
       "    </tr>\n",
       "    <tr>\n",
       "      <th>3</th>\n",
       "      <td>0.070677</td>\n",
       "      <td>0.029689</td>\n",
       "      <td>0.000320</td>\n",
       "      <td>0.000137</td>\n",
       "      <td>0.000412</td>\n",
       "      <td>0.000457</td>\n",
       "      <td>0.001189</td>\n",
       "      <td>0.000549</td>\n",
       "      <td>0.000046</td>\n",
       "      <td>0.000549</td>\n",
       "      <td>...</td>\n",
       "      <td>0.0</td>\n",
       "      <td>0.0</td>\n",
       "      <td>0.000000</td>\n",
       "      <td>0.0</td>\n",
       "      <td>0.000000</td>\n",
       "      <td>0.0</td>\n",
       "      <td>0.000000</td>\n",
       "      <td>0.0</td>\n",
       "      <td>0.0</td>\n",
       "      <td>0.0</td>\n",
       "    </tr>\n",
       "    <tr>\n",
       "      <th>4</th>\n",
       "      <td>0.046610</td>\n",
       "      <td>0.034304</td>\n",
       "      <td>0.000789</td>\n",
       "      <td>0.000168</td>\n",
       "      <td>0.000168</td>\n",
       "      <td>0.000505</td>\n",
       "      <td>0.000751</td>\n",
       "      <td>0.000233</td>\n",
       "      <td>0.000065</td>\n",
       "      <td>0.001009</td>\n",
       "      <td>...</td>\n",
       "      <td>0.0</td>\n",
       "      <td>0.0</td>\n",
       "      <td>0.000013</td>\n",
       "      <td>0.0</td>\n",
       "      <td>0.000000</td>\n",
       "      <td>0.0</td>\n",
       "      <td>0.000000</td>\n",
       "      <td>0.0</td>\n",
       "      <td>0.0</td>\n",
       "      <td>0.0</td>\n",
       "    </tr>\n",
       "  </tbody>\n",
       "</table>\n",
       "<p>5 rows × 785 columns</p>\n",
       "</div>"
      ],
      "text/plain": [
       "         $$        $_        $a        $b        $c        $d        $e  \\\n",
       "0  0.070389  0.034548  0.002063  0.000317  0.000249  0.000295  0.001020   \n",
       "1  0.047840  0.025302  0.000809  0.000243  0.000135  0.000067  0.000890   \n",
       "2  0.064450  0.032426  0.000541  0.001359  0.000357  0.000392  0.000841   \n",
       "3  0.070677  0.029689  0.000320  0.000137  0.000412  0.000457  0.001189   \n",
       "4  0.046610  0.034304  0.000789  0.000168  0.000168  0.000505  0.000751   \n",
       "\n",
       "         $f        $g        $h ...    zq   zr        zs   zt        zu   zv  \\\n",
       "0  0.000136  0.000113  0.001065 ...   0.0  0.0  0.000000  0.0  0.000023  0.0   \n",
       "1  0.000067  0.000121  0.000850 ...   0.0  0.0  0.000000  0.0  0.000013  0.0   \n",
       "2  0.000092  0.000081  0.001106 ...   0.0  0.0  0.000000  0.0  0.000127  0.0   \n",
       "3  0.000549  0.000046  0.000549 ...   0.0  0.0  0.000000  0.0  0.000000  0.0   \n",
       "4  0.000233  0.000065  0.001009 ...   0.0  0.0  0.000013  0.0  0.000000  0.0   \n",
       "\n",
       "         zw   zx   zy   zz  \n",
       "0  0.000000  0.0  0.0  0.0  \n",
       "1  0.000013  0.0  0.0  0.0  \n",
       "2  0.000012  0.0  0.0  0.0  \n",
       "3  0.000000  0.0  0.0  0.0  \n",
       "4  0.000000  0.0  0.0  0.0  \n",
       "\n",
       "[5 rows x 785 columns]"
      ]
     },
     "execution_count": 6,
     "metadata": {},
     "output_type": "execute_result"
    }
   ],
   "source": [
    "import pandas as pd\n",
    "\n",
    "col_names = ['y'] + sorted(bigram_dict_full['en']['doc_0'].keys())\n",
    "my_df = dict()\n",
    "\n",
    "for col in col_names:\n",
    "    my_df[col] = list()\n",
    "    \n",
    "df = pd.DataFrame(my_df)\n",
    "\n",
    "for lang, doc in bigram_dict_full.items():\n",
    "    for key, value in doc.items():\n",
    "        df_obj = value\n",
    "        df_obj['y'] = lang\n",
    "        df = df.append(df_obj, ignore_index=True)\n",
    "        \n",
    "df.head()\n",
    "        "
   ]
  },
  {
   "cell_type": "code",
   "execution_count": 7,
   "metadata": {},
   "outputs": [
    {
     "data": {
      "text/plain": [
       "(60, 785)"
      ]
     },
     "execution_count": 7,
     "metadata": {},
     "output_type": "execute_result"
    }
   ],
   "source": [
    "df.shape"
   ]
  },
  {
   "cell_type": "markdown",
   "metadata": {},
   "source": [
    "Now we split the data into the label vector \\begin{equation}\\mathbf{y}\\end{equation} and a training data matrix \\begin{equation}\\mathbf{X}\\end{equation}. But first, we shuffle the df and split it into a training and a test set."
   ]
  },
  {
   "cell_type": "markdown",
   "metadata": {},
   "source": [
    "Split the data into a train set and a test set"
   ]
  },
  {
   "cell_type": "code",
   "execution_count": 8,
   "metadata": {},
   "outputs": [],
   "source": [
    "train = df.sample(frac=0.9, random_state=seed)\n",
    "test = df.drop(train.index)"
   ]
  },
  {
   "cell_type": "markdown",
   "metadata": {},
   "source": [
    "Define the different sets"
   ]
  },
  {
   "cell_type": "code",
   "execution_count": 9,
   "metadata": {},
   "outputs": [],
   "source": [
    "# for training\n",
    "y_train = train.y\n",
    "X_train = train.drop('y', axis=1)\n",
    "\n",
    "# for testing\n",
    "y_test = test.y\n",
    "X_test = test.drop('y', axis=1)"
   ]
  },
  {
   "cell_type": "markdown",
   "metadata": {},
   "source": [
    "Check the shapes"
   ]
  },
  {
   "cell_type": "code",
   "execution_count": 10,
   "metadata": {},
   "outputs": [
    {
     "name": "stdout",
     "output_type": "stream",
     "text": [
      "Training samples shape:  (54, 784)\n",
      "Training labels shape:  (54,)\n",
      "Test samples shape:  (6, 784)\n",
      "Test labels shape:  (6,)\n"
     ]
    }
   ],
   "source": [
    "print('Training samples shape: ', X_train.shape)\n",
    "print('Training labels shape: ', y_train.shape)\n",
    "print('Test samples shape: ', X_test.shape)\n",
    "print('Test labels shape: ', y_test.shape)"
   ]
  },
  {
   "cell_type": "markdown",
   "metadata": {},
   "source": [
    "Moreover, it is necessary for many machine learning tasks to standardise the data. Our aim is for each feature to be represented by a column vector in which values have zero mean and unit variance."
   ]
  },
  {
   "cell_type": "code",
   "execution_count": 11,
   "metadata": {},
   "outputs": [],
   "source": [
    "def normalise_matrix(matrix, mean_and_std=None):\n",
    "    \"\"\"\n",
    "    normalises the data matrix (normalise each datapoint to zero mean and unit variance.)\n",
    "    :param matrix: input matrix\n",
    "    :param mean_and_std: provide mean and std as tuples in list for normalisation of test data\n",
    "    :return: normalised matrix and list consisting of tuples containing mean and std\n",
    "    \"\"\"\n",
    "    normalised = np.ones(matrix.shape)\n",
    "    \n",
    "    if mean_and_std == None:\n",
    "        \n",
    "        mean_std_list = list()\n",
    "\n",
    "        for col_index, col in enumerate(matrix):\n",
    "            mean = matrix[col].mean()\n",
    "            std = matrix[col].std()\n",
    "            mean_std_list.append((mean, std))\n",
    "            for row_index, item in enumerate(matrix[col]):\n",
    "                try:\n",
    "                    normalised[row_index, col_index] = (item - mean)/std\n",
    "                except ZeroDivisionError:\n",
    "                    normalised[row_index, col_index] = 0.0\n",
    "        return normalised, mean_std_list\n",
    "    else:\n",
    "        for col_index, col in enumerate(matrix):\n",
    "            for row_index, item in enumerate(matrix[col]):\n",
    "                try:\n",
    "                    mean = mean_and_std[col_index][0]\n",
    "                    std = mean_and_std[col_index][1]\n",
    "                    normalised[row_index, col_index] = (item - mean)/std\n",
    "                except ZeroDivisionError:\n",
    "                    normalised[row_index, col_index] = 0.0\n",
    "        return normalised"
   ]
  },
  {
   "cell_type": "markdown",
   "metadata": {},
   "source": [
    "normalise the train and test set (use values from training set for standardisation of test set). in sklearn, there are simple methods which help you with this!"
   ]
  },
  {
   "cell_type": "code",
   "execution_count": 12,
   "metadata": {},
   "outputs": [],
   "source": [
    "train_norm, train_mean_std = normalise_matrix(X_train)\n",
    "test_norm = normalise_matrix(X_test, train_mean_std)"
   ]
  },
  {
   "cell_type": "markdown",
   "metadata": {},
   "source": [
    "We should binarise our labels, although libraries like sklearn can also deal with non-numeric data"
   ]
  },
  {
   "cell_type": "code",
   "execution_count": 13,
   "metadata": {},
   "outputs": [
    {
     "data": {
      "text/plain": [
       "LabelBinarizer(neg_label=0, pos_label=1, sparse_output=False)"
      ]
     },
     "execution_count": 13,
     "metadata": {},
     "output_type": "execute_result"
    }
   ],
   "source": [
    "from sklearn import preprocessing\n",
    "\n",
    "lb = preprocessing.LabelBinarizer()\n",
    "lb.fit(['en', 'fr', 'de', 'it', 'es', 'fi'])"
   ]
  },
  {
   "cell_type": "code",
   "execution_count": 14,
   "metadata": {},
   "outputs": [
    {
     "data": {
      "text/plain": [
       "array(['de', 'en', 'es', 'fi', 'fr', 'it'], dtype='<U2')"
      ]
     },
     "execution_count": 14,
     "metadata": {},
     "output_type": "execute_result"
    }
   ],
   "source": [
    "lb.classes_"
   ]
  },
  {
   "cell_type": "markdown",
   "metadata": {},
   "source": [
    "We do this for both our training and test labels:"
   ]
  },
  {
   "cell_type": "code",
   "execution_count": 15,
   "metadata": {},
   "outputs": [],
   "source": [
    "y_train = lb.transform(y_train)\n",
    "y_test = lb.transform(y_test)"
   ]
  },
  {
   "cell_type": "markdown",
   "metadata": {},
   "source": [
    "Labels are now one-hot encoded:"
   ]
  },
  {
   "cell_type": "code",
   "execution_count": 16,
   "metadata": {},
   "outputs": [
    {
     "data": {
      "text/plain": [
       "array([0, 0, 0, 0, 0, 1])"
      ]
     },
     "execution_count": 16,
     "metadata": {},
     "output_type": "execute_result"
    }
   ],
   "source": [
    "y_train[0]"
   ]
  },
  {
   "cell_type": "markdown",
   "metadata": {},
   "source": [
    "We almost have everything now. However, we need to take care of the bias and the weight matrix. The hypothesis ŷ is given by:\n",
    "\\begin{equation}\n",
    "\\mathbf{\\hat{y}}=\\mathbf{x}\\cdot\\mathbf{W}+\\mathbf{b}\n",
    "\\end{equation}\n",
    "We can achieve this by appending 1 to each feature vector x, and the whole weight vector b to the weight matrix W. This is called the bias trick. Note that the dimensions of X_train change, and that the weight matrix W will have match the dimensions (same number of rows as X has columns)."
   ]
  },
  {
   "cell_type": "code",
   "execution_count": 17,
   "metadata": {},
   "outputs": [
    {
     "data": {
      "text/plain": [
       "(54, 785)"
      ]
     },
     "execution_count": 17,
     "metadata": {},
     "output_type": "execute_result"
    }
   ],
   "source": [
    "bias_vector = np.ones([train_norm.shape[0], 1])\n",
    "X_train = np.append(train_norm, bias_vector, axis=1)\n",
    "X_train.shape"
   ]
  },
  {
   "cell_type": "code",
   "execution_count": 18,
   "metadata": {},
   "outputs": [],
   "source": [
    "# initialise weight matrix with small weights\n",
    "\n",
    "np.random.seed(seed=200)\n",
    "\n",
    "W = np.random.randn(X_train.shape[1], len(lb.classes_)) * 0.0001\n",
    "#W = np.zeros([X.shape[1], len(lb.classes_)])"
   ]
  },
  {
   "cell_type": "markdown",
   "metadata": {},
   "source": [
    "We see that the dimensions are right. The dot product of a specific row from X_train and the weight matrix W constitutes a forward pass and calculates the score for each class."
   ]
  },
  {
   "cell_type": "code",
   "execution_count": 19,
   "metadata": {},
   "outputs": [
    {
     "data": {
      "text/plain": [
       "(785, 6)"
      ]
     },
     "execution_count": 19,
     "metadata": {},
     "output_type": "execute_result"
    }
   ],
   "source": [
    "W.shape"
   ]
  },
  {
   "cell_type": "code",
   "execution_count": 20,
   "metadata": {},
   "outputs": [
    {
     "data": {
      "text/plain": [
       "(54, 785)"
      ]
     },
     "execution_count": 20,
     "metadata": {},
     "output_type": "execute_result"
    }
   ],
   "source": [
    "X_train.shape"
   ]
  },
  {
   "cell_type": "code",
   "execution_count": 21,
   "metadata": {},
   "outputs": [
    {
     "data": {
      "text/plain": [
       "array([[-0.00165842, -0.00558468, -0.00562853, -0.00551135, -0.00191775,\n",
       "         0.0010696 ]])"
      ]
     },
     "execution_count": 21,
     "metadata": {},
     "output_type": "execute_result"
    }
   ],
   "source": [
    "X_train[5:6].dot(W)"
   ]
  },
  {
   "cell_type": "markdown",
   "metadata": {},
   "source": [
    "We see that the values for the highest score of the dot product is not the score of the true label. Our aim is to change this by implementing a support vector classifier."
   ]
  },
  {
   "cell_type": "code",
   "execution_count": 22,
   "metadata": {},
   "outputs": [
    {
     "data": {
      "text/plain": [
       "array([0.0010696])"
      ]
     },
     "execution_count": 22,
     "metadata": {},
     "output_type": "execute_result"
    }
   ],
   "source": [
    "X_train[5:6].dot(W).max(axis=1)"
   ]
  },
  {
   "cell_type": "code",
   "execution_count": 23,
   "metadata": {},
   "outputs": [
    {
     "data": {
      "text/plain": [
       "-0.005511349692839673"
      ]
     },
     "execution_count": 23,
     "metadata": {},
     "output_type": "execute_result"
    }
   ],
   "source": [
    "X_train[5:6].dot(W)[0][y_train[5:6].argmax()]"
   ]
  },
  {
   "cell_type": "markdown",
   "metadata": {},
   "source": [
    "Important: we follow kind of a naive implementation. The aim is to be able to understand what is going on!\n",
    "\n",
    "In order to quantify how good (or how bad) our weight matrix W can predict the data in our training set, we need to implement a loss function. Here we take a go at the hinge loss, which tries to predict the correct class with a margin of at least one to all other classes (or in this case, like presented in Goldberg, to the class which does not equal the true class, but which scores highest). In my understanding, this is a one-vs-one approach (true class vs. class with highest score (but doesn't equal the true class))."
   ]
  },
  {
   "cell_type": "code",
   "execution_count": 24,
   "metadata": {},
   "outputs": [],
   "source": [
    "def hinge_loss(x, y, W, index):\n",
    "    \"\"\"\n",
    "    Calculates the loss of a single data point by taking the prediction of the correct value and the the prediction of\n",
    "    the value of next highest score, following Crammer and Singer (2001)\n",
    "    :param x: sample point x as a vector\n",
    "    :param y: correct label y for x as a vector\n",
    "    :param W: weight matrix\n",
    "    :param index: column index of data matrix X\n",
    "    :return: loss\n",
    "    \"\"\"\n",
    "    loss = 0\n",
    "    y_index = y[index].argmax()\n",
    "    y_value = x.dot(W)[y_index]\n",
    "    y_hat_max_value = np.delete(x.dot(W), y_index).max()\n",
    "    #for j in range(0, y.shape[1]):  # in case we wanted to classify against all other classes (one-vs-all) --> currently one-vs-one\n",
    "        #if j == y_index:\n",
    "            #continue\n",
    "    loss += max(0, 1 - (y_value - y_hat_max_value))\n",
    "    return loss"
   ]
  },
  {
   "cell_type": "markdown",
   "metadata": {},
   "source": [
    "With matrix multiplication, we could get all the scores at once. In the following, however, we focus on an approach which takes sample by sample and calculates the loss and the gradients."
   ]
  },
  {
   "cell_type": "code",
   "execution_count": 25,
   "metadata": {},
   "outputs": [],
   "source": [
    "scores = X_train.dot(W)  # simple matrix multiplication to get all scores"
   ]
  },
  {
   "cell_type": "code",
   "execution_count": 26,
   "metadata": {},
   "outputs": [
    {
     "data": {
      "text/plain": [
       "array([[-5.55398818e-04,  3.37949002e-03, -8.40643524e-05,\n",
       "        -2.72327890e-03,  2.27223898e-03, -4.19751279e-03],\n",
       "       [-3.02864621e-03, -8.57414552e-04, -4.44178360e-03,\n",
       "        -4.11820898e-03,  3.05471255e-03,  1.43402301e-03],\n",
       "       [ 2.68524769e-03,  2.54146957e-03,  1.71621466e-03,\n",
       "         3.04851690e-03,  5.60148080e-04,  1.58296171e-03],\n",
       "       [ 6.07786877e-03,  9.80210433e-04,  1.45588397e-03,\n",
       "         4.25217812e-03, -6.79212250e-04,  8.68427653e-04],\n",
       "       [-2.66124536e-03,  8.88080362e-04,  3.02651856e-04,\n",
       "        -7.39309752e-04,  3.83831939e-03,  4.96306015e-06],\n",
       "       [-1.65841868e-03, -5.58467584e-03, -5.62853211e-03,\n",
       "        -5.51134969e-03, -1.91774985e-03,  1.06960255e-03],\n",
       "       [ 6.68489444e-04, -9.52709157e-04,  6.06902896e-03,\n",
       "         2.99064977e-03, -2.74790493e-03,  5.99410083e-05],\n",
       "       [-1.09604347e-03,  2.34331758e-03, -1.70226576e-03,\n",
       "        -3.43223327e-03,  6.39593485e-04,  3.13845305e-03],\n",
       "       [ 4.01153457e-03, -1.75777546e-03,  4.76723649e-03,\n",
       "         1.34746827e-04,  3.88965791e-04,  1.54363000e-03],\n",
       "       [ 9.03308560e-04, -1.50523336e-03,  2.04904889e-03,\n",
       "         3.65883895e-03,  1.74633377e-03,  3.62567453e-03],\n",
       "       [ 4.52825975e-03, -3.36132303e-03, -2.09312431e-03,\n",
       "        -2.56750485e-04, -2.85020477e-03,  1.97404022e-03],\n",
       "       [ 2.86929292e-05, -3.12982777e-03,  2.51737000e-03,\n",
       "         1.61146964e-03,  1.16598467e-03,  1.38131041e-03],\n",
       "       [ 1.25468042e-03,  3.55457144e-03,  2.04847053e-03,\n",
       "        -7.80614265e-04,  1.55386126e-04,  1.48975012e-03],\n",
       "       [-1.84322518e-03, -2.47633666e-03, -4.98749106e-03,\n",
       "        -6.05062610e-03,  2.11161810e-03,  2.19335207e-03],\n",
       "       [ 2.10508964e-03,  5.52673541e-03,  3.21037747e-03,\n",
       "        -2.41858395e-03,  1.40176148e-03,  7.89224485e-04],\n",
       "       [ 1.35362921e-03, -1.54690976e-03,  1.84040171e-03,\n",
       "         4.11198799e-03, -1.09150846e-04, -8.22979741e-05],\n",
       "       [-2.83882035e-03,  3.11551345e-04,  1.66067287e-03,\n",
       "        -3.36640806e-03, -6.32316236e-04,  2.01833056e-03],\n",
       "       [ 4.10264110e-03, -3.92537847e-03, -2.27597716e-03,\n",
       "        -2.44793088e-03, -4.39975576e-03,  3.52977165e-03],\n",
       "       [-1.48527951e-03,  3.66382385e-04,  1.35215662e-03,\n",
       "        -1.50648057e-03, -1.57596236e-03, -5.50518226e-03],\n",
       "       [-9.72366285e-04,  4.78814103e-03,  2.58910669e-03,\n",
       "         5.39394220e-03, -1.57293616e-03,  4.22924061e-03],\n",
       "       [-2.88692861e-03,  1.52110310e-04,  4.99086604e-04,\n",
       "        -1.33806624e-03,  7.22355055e-04, -2.76405320e-04],\n",
       "       [-6.23605884e-04, -1.39092401e-03,  1.88068480e-03,\n",
       "         1.90631752e-03,  3.75719249e-03, -2.99704478e-04],\n",
       "       [-2.60698050e-03,  8.18836268e-05, -1.70551676e-03,\n",
       "         5.59892296e-04, -9.25462194e-04, -2.44649279e-03],\n",
       "       [ 2.40158754e-04,  5.52718652e-03,  2.97087697e-03,\n",
       "         1.81675300e-03,  5.84908771e-04,  3.47649932e-03],\n",
       "       [-2.85837995e-04,  5.37796488e-03,  8.43814550e-04,\n",
       "        -1.65335972e-04,  2.57437251e-03, -6.16078555e-03],\n",
       "       [-1.58338925e-03, -1.20432639e-03, -6.76867686e-04,\n",
       "        -6.73685825e-04, -2.45493779e-03, -2.31849650e-03],\n",
       "       [ 4.60197097e-03, -2.91921895e-03,  2.75858197e-03,\n",
       "        -3.73946909e-03, -2.34702825e-03,  4.46608037e-03],\n",
       "       [ 7.29854071e-04,  1.48284915e-03,  2.70595662e-03,\n",
       "         1.97892452e-04,  7.04919414e-04,  6.74455460e-04],\n",
       "       [-7.37362575e-03, -5.55209757e-03, -3.89684395e-03,\n",
       "        -5.83786550e-03,  1.59977384e-04,  3.58215542e-03],\n",
       "       [-7.53444678e-04,  3.86701704e-03, -7.58640423e-04,\n",
       "         2.73705550e-03,  1.99547972e-03, -1.47925254e-03],\n",
       "       [ 6.72226578e-04,  2.67331981e-03,  8.42467197e-04,\n",
       "         5.05579807e-03, -1.63158415e-03, -1.77346576e-03],\n",
       "       [ 2.53123290e-03, -2.97967462e-03, -3.26974881e-03,\n",
       "        -5.35584605e-03,  2.19329177e-04, -2.84576780e-03],\n",
       "       [ 6.43803319e-03,  3.57852190e-03, -6.84739654e-04,\n",
       "         4.26289510e-03, -2.42325371e-03,  3.33888212e-03],\n",
       "       [-1.12512363e-03, -4.10571823e-03,  1.28758455e-03,\n",
       "         2.28303126e-03,  2.40930636e-03,  2.86519536e-04],\n",
       "       [-9.11245238e-04,  6.30418204e-04, -1.23619257e-03,\n",
       "         1.08606840e-03,  4.70362341e-04, -2.66840432e-03],\n",
       "       [ 3.72506413e-04,  2.53446537e-03,  6.10840306e-03,\n",
       "         2.06334938e-03,  1.43158279e-03, -3.92986162e-03],\n",
       "       [ 7.27886403e-03, -1.90580867e-03,  4.19118836e-03,\n",
       "         2.70185242e-03, -2.24546200e-04,  5.94045133e-03],\n",
       "       [-4.32271571e-04, -8.04898991e-04,  2.62491977e-04,\n",
       "         5.10430757e-03, -3.67055110e-03, -3.62994102e-03],\n",
       "       [-6.35702001e-04, -1.44506161e-03, -2.43002807e-03,\n",
       "         8.26612928e-04, -2.79540717e-03, -3.87367022e-03],\n",
       "       [-1.01093710e-03, -1.39941771e-04, -2.51291947e-04,\n",
       "         4.51631096e-03, -1.52482374e-03, -2.35623262e-03],\n",
       "       [ 3.49168328e-03,  1.47389333e-03, -1.45000577e-03,\n",
       "        -3.06382997e-04, -9.73322780e-04,  3.65063085e-03],\n",
       "       [-4.28282440e-05,  1.93962830e-03,  3.20790645e-03,\n",
       "        -4.92906061e-04, -2.65847573e-04,  8.51443525e-05],\n",
       "       [-1.91249278e-03, -1.55674671e-03, -3.78584722e-03,\n",
       "        -5.57076226e-03,  4.93095817e-03,  3.46342033e-03],\n",
       "       [-2.53666613e-03,  1.06093719e-03, -1.60635503e-03,\n",
       "        -1.82611733e-03, -1.07202843e-04,  2.37305550e-03],\n",
       "       [-2.24231882e-03, -4.25484236e-03, -2.92661727e-03,\n",
       "        -3.76271706e-03, -2.63426990e-03,  1.54798272e-03],\n",
       "       [-3.92393104e-03, -4.37583119e-03, -6.83100648e-03,\n",
       "        -4.80530124e-03,  1.17665768e-03,  4.24925863e-03],\n",
       "       [-6.03832528e-03, -6.13488162e-03,  1.06133942e-03,\n",
       "        -3.82860031e-04,  7.70334022e-04, -1.33933247e-03],\n",
       "       [-4.36028898e-03, -7.31474705e-04, -4.12771197e-03,\n",
       "        -2.63947413e-03,  5.49441884e-04, -9.97584426e-04],\n",
       "       [ 2.05081700e-03, -2.13252788e-04, -2.41023521e-04,\n",
       "        -8.56090121e-04,  4.01033782e-04, -4.06884224e-03],\n",
       "       [ 1.07529014e-03,  3.37191215e-03,  9.30435452e-04,\n",
       "         4.48896151e-04, -1.60049308e-03, -4.92705985e-04],\n",
       "       [-1.64570617e-03, -3.36795974e-04, -5.04819172e-04,\n",
       "         2.31189299e-03, -2.98629563e-03, -1.09210064e-03],\n",
       "       [ 1.51681385e-03,  1.63894965e-03,  6.73197669e-04,\n",
       "         1.40719752e-03,  8.77669363e-04, -4.56386402e-03],\n",
       "       [-6.17202456e-03, -1.56389107e-03,  1.63903722e-03,\n",
       "         4.45352358e-03, -2.18417294e-03, -3.54034279e-03],\n",
       "       [ 5.14020346e-03,  3.66308904e-03, -6.19451688e-04,\n",
       "         5.54488663e-04,  1.30402766e-03, -4.29022322e-03]])"
      ]
     },
     "execution_count": 26,
     "metadata": {},
     "output_type": "execute_result"
    }
   ],
   "source": [
    "scores"
   ]
  },
  {
   "cell_type": "code",
   "execution_count": 127,
   "metadata": {},
   "outputs": [],
   "source": [
    "def gradient(X, y, W):\n",
    "    \"\"\"\n",
    "    compute the gradient\n",
    "    :param X: data matrix (train) \n",
    "    :param y: the corresponding \n",
    "    :param W: weight matrix\n",
    "    :return: loss and Jacobian dW with all gradients\n",
    "    \"\"\"\n",
    "    dW = np.zeros(W.shape)\n",
    "    \n",
    "    total_loss = 0.0\n",
    "    \n",
    "    for index, x in enumerate(X):\n",
    "        y_index = y[index].argmax()\n",
    "        y_value = x.dot(W)[y_index]\n",
    "        y_hat_max_value = np.delete(x.dot(W), y_index).max()\n",
    "        loss = max(0, 1 - (y_value - y_hat_max_value))\n",
    "        total_loss += loss\n",
    "        y_hat_max_index = np.delete(x.dot(W), y_index).argmax() + 1\n",
    "        if loss > 0:  # not sure whether we need this if statement\n",
    "            dW[:, y_hat_max_index] += x.transpose()\n",
    "            dW[:, y_index] -= x.transpose()\n",
    "            \n",
    "    total_loss /= X.shape[0]\n",
    "    dW /= X.shape[0]\n",
    "            \n",
    "    return total_loss, dW\n",
    "    "
   ]
  },
  {
   "cell_type": "code",
   "execution_count": 128,
   "metadata": {},
   "outputs": [],
   "source": [
    "def gradient_descent(X, y, W, eta, steps):\n",
    "    \"\"\"\n",
    "    Perform gradient descent for a number of times with a fixed learning rate eta\n",
    "    :param X: data matrix\n",
    "    :param y: labels\n",
    "    :param W: weight matrix\n",
    "    :param eta: learning rate\n",
    "    :param steps: number of times gradient descent should be performed\n",
    "    :return: learned representation matrix W_learned\n",
    "    \"\"\"\n",
    "    W_learned = W.copy()\n",
    "    \n",
    "    for step in range(0, steps):\n",
    "        loss, dW = gradient(X, y, W_learned)\n",
    "        print(loss)\n",
    "        W_learned = W_learned - eta * dW\n",
    "        \n",
    "    return W_learned\n",
    "    "
   ]
  },
  {
   "cell_type": "code",
   "execution_count": 136,
   "metadata": {},
   "outputs": [
    {
     "name": "stdout",
     "output_type": "stream",
     "text": [
      "1.0038170867499712\n",
      "0.9458004956913564\n",
      "0.9029223134272765\n",
      "0.8359050724406546\n",
      "0.7627383071817009\n",
      "0.7002533175250243\n",
      "0.6363839674437564\n",
      "0.5601080098980816\n",
      "0.4977957071945216\n",
      "0.43727328194478265\n",
      "0.39969043635331086\n",
      "0.37194985032759115\n",
      "0.3451396585114108\n",
      "0.31993737904591485\n",
      "0.29542868779422654\n",
      "0.2730317394318695\n",
      "0.25051221058149853\n",
      "0.22653748291157821\n",
      "0.20419158204055793\n",
      "0.18030176579112206\n",
      "0.1613555932139755\n",
      "0.14161625629003335\n",
      "0.12595610133530682\n",
      "0.11406584874399786\n",
      "0.10426680552175424\n",
      "0.09156041227255908\n",
      "0.08373285352546704\n",
      "0.07634078453206532\n",
      "0.07264716918242302\n",
      "0.06919024286641753\n",
      "0.06600104960037959\n",
      "0.06336474174747486\n",
      "0.062469866350450105\n",
      "0.06050885893178353\n",
      "0.05983604994039867\n",
      "0.05923939378809413\n",
      "0.05776841144964399\n",
      "0.05749401804990851\n",
      "0.05721962465017302\n",
      "0.05714119484868436\n",
      "0.054972663633005285\n",
      "0.05427993779004683\n",
      "0.05406309086590985\n",
      "0.05353799074850154\n",
      "0.053318813705064985\n",
      "0.053161296647773394\n",
      "0.053161296647773394\n",
      "0.053161296647773394\n",
      "0.053161296647773394\n",
      "0.053161296647773394\n",
      "0.053161296647773394\n",
      "0.053161296647773394\n",
      "0.053161296647773394\n",
      "0.053161296647773394\n",
      "0.053161296647773394\n",
      "0.053161296647773394\n",
      "0.053161296647773394\n",
      "0.053161296647773394\n",
      "0.053161296647773394\n",
      "0.053161296647773394\n",
      "0.053161296647773394\n",
      "0.053161296647773394\n",
      "0.053161296647773394\n",
      "0.053161296647773394\n",
      "0.053161296647773394\n",
      "0.053161296647773394\n",
      "0.053161296647773394\n",
      "0.053161296647773394\n",
      "0.053161296647773394\n",
      "0.053161296647773394\n",
      "0.053161296647773394\n",
      "0.053161296647773394\n",
      "0.053161296647773394\n",
      "0.053161296647773394\n",
      "0.053161296647773394\n",
      "0.053161296647773394\n",
      "0.053161296647773394\n",
      "0.053161296647773394\n",
      "0.053161296647773394\n",
      "0.053161296647773394\n",
      "0.053161296647773394\n",
      "0.053161296647773394\n",
      "0.053161296647773394\n",
      "0.053161296647773394\n",
      "0.053161296647773394\n",
      "0.053161296647773394\n",
      "0.053161296647773394\n",
      "0.053161296647773394\n",
      "0.053161296647773394\n",
      "0.053161296647773394\n",
      "0.053161296647773394\n",
      "0.053161296647773394\n",
      "0.053161296647773394\n",
      "0.053161296647773394\n",
      "0.053161296647773394\n",
      "0.053161296647773394\n",
      "0.053161296647773394\n",
      "0.053161296647773394\n",
      "0.053161296647773394\n",
      "0.053161296647773394\n"
     ]
    }
   ],
   "source": [
    "W_star = gradient_descent(X_train, y_train, W, eta=0.001, steps=100)"
   ]
  },
  {
   "cell_type": "markdown",
   "metadata": {},
   "source": [
    "### Testing\n",
    "Let's test if our learned representation of the data is any good at classifying the data in the test set. Of course we need the bias in our test set as well!"
   ]
  },
  {
   "cell_type": "code",
   "execution_count": 137,
   "metadata": {},
   "outputs": [],
   "source": [
    "bias_vector_test = np.ones([X_test.shape[0], 1])\n",
    "X_test = np.append(test_norm, bias_vector_test, axis=1)"
   ]
  },
  {
   "cell_type": "code",
   "execution_count": 138,
   "metadata": {},
   "outputs": [
    {
     "name": "stdout",
     "output_type": "stream",
     "text": [
      "3 3\n",
      "5 5\n",
      "5 5\n",
      "4 4\n",
      "0 0\n",
      "0 0\n"
     ]
    }
   ],
   "source": [
    "for index, x in enumerate(X_test.dot(W_star)):\n",
    "    pred = x.argmax()\n",
    "    true_label = y_test[index].argmax()\n",
    "    print(pred, true_label)"
   ]
  },
  {
   "cell_type": "markdown",
   "metadata": {},
   "source": [
    "Not too bad! But Goldberg mentioned something about regularisation, so we should take this into account as well!"
   ]
  },
  {
   "cell_type": "code",
   "execution_count": 160,
   "metadata": {},
   "outputs": [],
   "source": [
    "def gradient_reg(X, y, W, lam):\n",
    "    \"\"\"\n",
    "    compute the gradient\n",
    "    :param X: data matrix (train) \n",
    "    :param y: the corresponding \n",
    "    :param W: weight matrix\n",
    "    :param lam: reguliser lambda\n",
    "    :return: Jacobian dW with all gradients\n",
    "    \"\"\"\n",
    "    dW = np.zeros(W.shape)\n",
    "    \n",
    "    total_loss = 0.0\n",
    "    \n",
    "    for index, x in enumerate(X):\n",
    "        y_index = y[index].argmax()\n",
    "        y_value = x.dot(W)[y_index]\n",
    "        y_hat_max_value = np.delete(x.dot(W), y_index).max()\n",
    "        loss = max(0, 1 - (y_value - y_hat_max_value))\n",
    "        total_loss += loss\n",
    "        y_hat_max_index = np.delete(x.dot(W), y_index).argmax() + 1\n",
    "        if loss > 0:  # not sure whether we need this if statement\n",
    "            dW[:, y_hat_max_index] += x.transpose()\n",
    "            dW[:, y_index] -= x.transpose()\n",
    "    \n",
    "    loss /= X.shape[0]\n",
    "    dW /= X.shape[0]\n",
    "    \n",
    "    total_loss += lam * np.linalg.norm(W, 2)\n",
    "    dW += lam * W\n",
    "            \n",
    "    return total_loss, dW\n",
    "\n",
    "def gradient_descent_reg(X, y, W, eta, steps):\n",
    "    \"\"\"\n",
    "    Perform gradient descent for a number of times with a fixed learning rate eta\n",
    "    :param X: data matrix\n",
    "    :param y: labels\n",
    "    :param W: weight matrix\n",
    "    :param eta: learning rate\n",
    "    :param steps: number of times gradient descent should be performed\n",
    "    :return: learned representation matrix W_learned\n",
    "    \"\"\"\n",
    "    W_learned = W.copy()\n",
    "    \n",
    "    for step in range(0, steps):\n",
    "        loss, dW = gradient_reg(X, y, W_learned, 2)\n",
    "        print(loss)\n",
    "        W_learned = W_learned - eta * dW\n",
    "        \n",
    "    return W_learned\n",
    "    "
   ]
  },
  {
   "cell_type": "code",
   "execution_count": 167,
   "metadata": {},
   "outputs": [
    {
     "name": "stdout",
     "output_type": "stream",
     "text": [
      "54.20758211976921\n",
      "51.076752717461495\n",
      "48.764681892306726\n",
      "45.150246857914915\n",
      "41.20739764734916\n",
      "37.842593970072826\n",
      "34.40372589873632\n",
      "30.297678814172144\n",
      "26.947244821759636\n",
      "23.67920299683294\n",
      "21.65552984702191\n",
      "20.159673247871645\n",
      "18.719435368574114\n",
      "17.37361158137452\n",
      "16.031237446541766\n",
      "14.79426200478653\n",
      "13.69071268963535\n",
      "12.341406359158503\n",
      "11.25382383570278\n",
      "9.978812350016465\n"
     ]
    }
   ],
   "source": [
    "W_star_reg = gradient_descent_reg(X_train, y_train, W, eta=0.001, steps=20)"
   ]
  },
  {
   "cell_type": "code",
   "execution_count": 168,
   "metadata": {},
   "outputs": [
    {
     "name": "stdout",
     "output_type": "stream",
     "text": [
      "3 3\n",
      "5 5\n",
      "5 5\n",
      "4 4\n",
      "0 0\n",
      "0 0\n"
     ]
    }
   ],
   "source": [
    "for index, x in enumerate(X_test.dot(W_star_reg)):\n",
    "    pred = x.argmax()\n",
    "    true_label = y_test[index].argmax()\n",
    "    print(pred, true_label)"
   ]
  },
  {
   "cell_type": "markdown",
   "metadata": {},
   "source": [
    "If we look at the two different weight matrices (one regularised, the other not), we notice the following:"
   ]
  },
  {
   "cell_type": "code",
   "execution_count": 169,
   "metadata": {},
   "outputs": [
    {
     "data": {
      "text/plain": [
       "array([[-5.78647135e-04,  1.28346720e-03, -1.93445596e-03,\n",
       "         2.80640163e-03, -2.44218375e-04, -1.20728113e-03],\n",
       "       [-7.96955403e-04,  7.22211518e-04, -3.49303253e-03,\n",
       "        -3.51679433e-03,  5.01353061e-03,  2.24429131e-03],\n",
       "       [-1.74911317e-03, -1.79858176e-03,  3.92019550e-03,\n",
       "        -4.73300532e-03,  5.45948384e-03, -7.59202032e-04],\n",
       "       [ 3.90212020e-03, -1.66440595e-03, -1.09472119e-03,\n",
       "        -4.97761960e-04,  9.07647146e-05, -8.39547695e-04],\n",
       "       [-1.87037704e-04, -1.13292487e-03,  9.40532198e-04,\n",
       "        -5.72550923e-03,  7.10109402e-03, -9.25386999e-04]])"
      ]
     },
     "execution_count": 169,
     "metadata": {},
     "output_type": "execute_result"
    }
   ],
   "source": [
    "W_star[0:5]"
   ]
  },
  {
   "cell_type": "code",
   "execution_count": 170,
   "metadata": {},
   "outputs": [
    {
     "data": {
      "text/plain": [
       "array([[-5.20655827e-04,  1.05672338e-03, -1.40708426e-03,\n",
       "         2.39033138e-03, -4.62027423e-04, -9.33267750e-04],\n",
       "       [-5.93592079e-04,  4.90021476e-04, -2.30015460e-03,\n",
       "        -2.06140822e-03,  3.31698330e-03,  1.31967699e-03],\n",
       "       [-1.52572058e-03, -1.39847125e-03,  2.97273629e-03,\n",
       "        -3.91436072e-03,  4.52360052e-03, -3.21388872e-04],\n",
       "       [ 3.38964849e-03, -1.44861974e-03, -9.56067745e-04,\n",
       "        -6.55413811e-04,  7.09559278e-05, -5.03024378e-04],\n",
       "       [-2.05402557e-04, -9.42166370e-04,  6.01204214e-04,\n",
       "        -4.90855116e-03,  5.93320763e-03, -4.08228655e-04]])"
      ]
     },
     "execution_count": 170,
     "metadata": {},
     "output_type": "execute_result"
    }
   ],
   "source": [
    "W_star_reg[0:5]"
   ]
  },
  {
   "cell_type": "markdown",
   "metadata": {},
   "source": [
    "## By the way ...\n",
    "### In scikit-learn it's much easier to implement this :-)\n"
   ]
  },
  {
   "cell_type": "code",
   "execution_count": 88,
   "metadata": {},
   "outputs": [
    {
     "data": {
      "text/plain": [
       "LinearSVC(C=1.0, class_weight=None, dual=True, fit_intercept=True,\n",
       "     intercept_scaling=1, loss='hinge', max_iter=1000,\n",
       "     multi_class='crammer_singer', penalty='l2', random_state=0,\n",
       "     tol=0.0001, verbose=0)"
      ]
     },
     "execution_count": 88,
     "metadata": {},
     "output_type": "execute_result"
    }
   ],
   "source": [
    "from sklearn.svm import LinearSVC\n",
    "clf = LinearSVC(random_state=0, multi_class='crammer_singer', loss='hinge')\n",
    "clf.fit(X_train, train.y)"
   ]
  },
  {
   "cell_type": "code",
   "execution_count": 89,
   "metadata": {},
   "outputs": [
    {
     "data": {
      "text/plain": [
       "array(['en', 'fi', 'fi', 'de', 'fr', 'fr'], dtype=object)"
      ]
     },
     "execution_count": 89,
     "metadata": {},
     "output_type": "execute_result"
    }
   ],
   "source": [
    "clf.predict(X_test)"
   ]
  },
  {
   "cell_type": "code",
   "execution_count": 90,
   "metadata": {},
   "outputs": [
    {
     "data": {
      "text/plain": [
       "4     en\n",
       "12    fi\n",
       "16    fi\n",
       "26    de\n",
       "41    fr\n",
       "42    fr\n",
       "Name: y, dtype: object"
      ]
     },
     "execution_count": 90,
     "metadata": {},
     "output_type": "execute_result"
    }
   ],
   "source": [
    "test.y"
   ]
  },
  {
   "cell_type": "markdown",
   "metadata": {},
   "source": [
    "We see that with our naive implementation, we do not much worse than with scikit's. scikit's implementation is of course much more elaborate and uses the vectorised operation and possibly other optimisation techniques in order to make its SVM (or SVC) better."
   ]
  },
  {
   "cell_type": "code",
   "execution_count": null,
   "metadata": {},
   "outputs": [],
   "source": []
  }
 ],
 "metadata": {
  "kernelspec": {
   "display_name": "Python [default]",
   "language": "python",
   "name": "python3"
  },
  "language_info": {
   "codemirror_mode": {
    "name": "ipython",
    "version": 3
   },
   "file_extension": ".py",
   "mimetype": "text/x-python",
   "name": "python",
   "nbconvert_exporter": "python",
   "pygments_lexer": "ipython3",
   "version": "3.5.2"
  }
 },
 "nbformat": 4,
 "nbformat_minor": 2
}
